{
 "cells": [
  {
   "cell_type": "markdown",
   "metadata": {
    "id": "KtFHRxcH3nTR",
    "tags": []
   },
   "source": [
    "![header-notebooks.png](data:image/png;base64,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)\n",
    "\n",
    "Esta é a tarefa proposta para a **Aula 5: Iniciando Tratamento de Dados**, do curso de **Engenharia de Dados** da **[Awari](https://awari.com.br/)**.\n",
    "\n",
    "---"
   ]
  },
  {
   "cell_type": "markdown",
   "metadata": {
    "tags": []
   },
   "source": [
    "# O que fazer?\n",
    "##### A atividade vai ao encontro do que foi visto em aula, sobre tratamento e limpeza de dados usando Pandas. O passo a passo consiste em::\n",
    "\n",
    "1. Fazer download do dataset [Top Youtube Artists](https://www.kaggle.com/datasets/themrityunjaypathak/top-youtube-artist), do Kaggle.\n",
    "2. Tratar as colunas sem informação adicionando o texto “Não informado”.\n",
    "3. Formatar a coluna de total de views multiplicando por 1 milhão.\n",
    "4. Formatar coluna “AVG” para 2 casas decimais depois da vírgula.\n",
    "5. Mostrar os top 10 usuários.\n",
    "6. Mostrar primeiros 100 usuários por nome decrescente.\n",
    "7. Salvar um novo CSV com a informação tratada.\n"
   ]
  },
  {
   "cell_type": "markdown",
   "metadata": {},
   "source": [
    "# Instalando bibliotecas"
   ]
  },
  {
   "cell_type": "code",
   "execution_count": 5,
   "metadata": {
    "id": "m2RXTtet4lm7",
    "tags": []
   },
   "outputs": [
    {
     "name": "stdout",
     "output_type": "stream",
     "text": [
      "Requirement already satisfied: pandas in /opt/conda/lib/python3.10/site-packages (1.5.3)\n",
      "Requirement already satisfied: python-dateutil>=2.8.1 in /opt/conda/lib/python3.10/site-packages (from pandas) (2.8.2)\n",
      "Requirement already satisfied: pytz>=2020.1 in /opt/conda/lib/python3.10/site-packages (from pandas) (2022.7.1)\n",
      "Requirement already satisfied: numpy>=1.21.0 in /opt/conda/lib/python3.10/site-packages (from pandas) (1.23.5)\n",
      "Requirement already satisfied: six>=1.5 in /opt/conda/lib/python3.10/site-packages (from python-dateutil>=2.8.1->pandas) (1.16.0)\n",
      "Requirement already satisfied: numpy in /opt/conda/lib/python3.10/site-packages (1.23.5)\n",
      "Requirement already satisfied: matplotlib in /opt/conda/lib/python3.10/site-packages (3.7.0)\n",
      "Requirement already satisfied: pyparsing>=2.3.1 in /opt/conda/lib/python3.10/site-packages (from matplotlib) (3.0.9)\n",
      "Requirement already satisfied: contourpy>=1.0.1 in /opt/conda/lib/python3.10/site-packages (from matplotlib) (1.0.7)\n",
      "Requirement already satisfied: pillow>=6.2.0 in /opt/conda/lib/python3.10/site-packages (from matplotlib) (9.4.0)\n",
      "Requirement already satisfied: kiwisolver>=1.0.1 in /opt/conda/lib/python3.10/site-packages (from matplotlib) (1.4.4)\n",
      "Requirement already satisfied: fonttools>=4.22.0 in /opt/conda/lib/python3.10/site-packages (from matplotlib) (4.38.0)\n",
      "Requirement already satisfied: packaging>=20.0 in /opt/conda/lib/python3.10/site-packages (from matplotlib) (23.0)\n",
      "Requirement already satisfied: python-dateutil>=2.7 in /opt/conda/lib/python3.10/site-packages (from matplotlib) (2.8.2)\n",
      "Requirement already satisfied: cycler>=0.10 in /opt/conda/lib/python3.10/site-packages (from matplotlib) (0.11.0)\n",
      "Requirement already satisfied: numpy>=1.20 in /opt/conda/lib/python3.10/site-packages (from matplotlib) (1.23.5)\n",
      "Requirement already satisfied: six>=1.5 in /opt/conda/lib/python3.10/site-packages (from python-dateutil>=2.7->matplotlib) (1.16.0)\n",
      "Collecting kaggle\n",
      "  Downloading kaggle-1.5.13.tar.gz (63 kB)\n",
      "\u001b[2K     \u001b[90m━━━━━━━━━━━━━━━━━━━━━━━━━━━━━━━━━━━━━━━━\u001b[0m \u001b[32m63.3/63.3 kB\u001b[0m \u001b[31m2.2 MB/s\u001b[0m eta \u001b[36m0:00:00\u001b[0m\n",
      "\u001b[?25h  Preparing metadata (setup.py) ... \u001b[?25ldone\n",
      "\u001b[?25hRequirement already satisfied: six>=1.10 in /opt/conda/lib/python3.10/site-packages (from kaggle) (1.16.0)\n",
      "Requirement already satisfied: certifi in /opt/conda/lib/python3.10/site-packages (from kaggle) (2022.12.7)\n",
      "Requirement already satisfied: python-dateutil in /opt/conda/lib/python3.10/site-packages (from kaggle) (2.8.2)\n",
      "Requirement already satisfied: requests in /opt/conda/lib/python3.10/site-packages (from kaggle) (2.28.2)\n",
      "Requirement already satisfied: tqdm in /opt/conda/lib/python3.10/site-packages (from kaggle) (4.64.1)\n",
      "Collecting python-slugify\n",
      "  Downloading python_slugify-8.0.1-py2.py3-none-any.whl (9.7 kB)\n",
      "Requirement already satisfied: urllib3 in /opt/conda/lib/python3.10/site-packages (from kaggle) (1.26.14)\n",
      "Collecting text-unidecode>=1.3\n",
      "  Downloading text_unidecode-1.3-py2.py3-none-any.whl (78 kB)\n",
      "\u001b[2K     \u001b[90m━━━━━━━━━━━━━━━━━━━━━━━━━━━━━━━━━━━━━━━━\u001b[0m \u001b[32m78.2/78.2 kB\u001b[0m \u001b[31m6.7 MB/s\u001b[0m eta \u001b[36m0:00:00\u001b[0m\n",
      "\u001b[?25hRequirement already satisfied: charset-normalizer<4,>=2 in /opt/conda/lib/python3.10/site-packages (from requests->kaggle) (2.1.1)\n",
      "Requirement already satisfied: idna<4,>=2.5 in /opt/conda/lib/python3.10/site-packages (from requests->kaggle) (3.4)\n",
      "Building wheels for collected packages: kaggle\n",
      "  Building wheel for kaggle (setup.py) ... \u001b[?25ldone\n",
      "\u001b[?25h  Created wheel for kaggle: filename=kaggle-1.5.13-py3-none-any.whl size=77716 sha256=505f442acf1c0685e6ca9ba8137688a762a35549b5936be7041e00b71486a7ee\n",
      "  Stored in directory: /home/jovyan/.cache/pip/wheels/f3/16/ff/34e7d368370d4fd68bb749a59f1d2639ed66f3c14358e340a1\n",
      "Successfully built kaggle\n",
      "Installing collected packages: text-unidecode, python-slugify, kaggle\n",
      "Successfully installed kaggle-1.5.13 python-slugify-8.0.1 text-unidecode-1.3\n"
     ]
    }
   ],
   "source": [
    "!pip install pandas\n",
    "!pip install numpy\n",
    "!pip install matplotlib"
   ]
  },
  {
   "cell_type": "markdown",
   "metadata": {},
   "source": [
    "# Importando bibliotecas"
   ]
  },
  {
   "cell_type": "code",
   "execution_count": 11,
   "metadata": {},
   "outputs": [],
   "source": [
    "import numpy as np\n",
    "import pandas as pd\n",
    "import matplotlib.pyplot as plt"
   ]
  },
  {
   "cell_type": "markdown",
   "metadata": {},
   "source": [
    "## 1º Passo\n",
    "\n",
    "##### Baixando e importando o dataset do Kaggle"
   ]
  },
  {
   "cell_type": "markdown",
   "metadata": {
    "tags": []
   },
   "source": [
    "Acesse este [link](https://www.kaggle.com/datasets/themrityunjaypathak/top-youtube-artist), baixe o dataset e armazene na pasta \"./arquivos/\". Depois execute o comando abaixo."
   ]
  },
  {
   "cell_type": "code",
   "execution_count": 12,
   "metadata": {
    "tags": []
   },
   "outputs": [
    {
     "data": {
      "text/html": [
       "<div>\n",
       "<style scoped>\n",
       "    .dataframe tbody tr th:only-of-type {\n",
       "        vertical-align: middle;\n",
       "    }\n",
       "\n",
       "    .dataframe tbody tr th {\n",
       "        vertical-align: top;\n",
       "    }\n",
       "\n",
       "    .dataframe thead th {\n",
       "        text-align: right;\n",
       "    }\n",
       "</style>\n",
       "<table border=\"1\" class=\"dataframe\">\n",
       "  <thead>\n",
       "    <tr style=\"text-align: right;\">\n",
       "      <th></th>\n",
       "      <th>Artist</th>\n",
       "      <th>Total Views</th>\n",
       "      <th>100M</th>\n",
       "      <th>Avg</th>\n",
       "    </tr>\n",
       "  </thead>\n",
       "  <tbody>\n",
       "    <tr>\n",
       "      <th>0</th>\n",
       "      <td>BTS</td>\n",
       "      <td>27,947.9</td>\n",
       "      <td>63.0</td>\n",
       "      <td>7.370</td>\n",
       "    </tr>\n",
       "    <tr>\n",
       "      <th>1</th>\n",
       "      <td>Bad Bunny</td>\n",
       "      <td>27,573.4</td>\n",
       "      <td>66.0</td>\n",
       "      <td>14.555</td>\n",
       "    </tr>\n",
       "    <tr>\n",
       "      <th>2</th>\n",
       "      <td>Justin Bieber</td>\n",
       "      <td>27,399.7</td>\n",
       "      <td>37.0</td>\n",
       "      <td>3.986</td>\n",
       "    </tr>\n",
       "    <tr>\n",
       "      <th>3</th>\n",
       "      <td>Ed Sheeran</td>\n",
       "      <td>26,894.0</td>\n",
       "      <td>39.0</td>\n",
       "      <td>4.609</td>\n",
       "    </tr>\n",
       "    <tr>\n",
       "      <th>4</th>\n",
       "      <td>Taylor Swift</td>\n",
       "      <td>24,350.0</td>\n",
       "      <td>38.0</td>\n",
       "      <td>5.716</td>\n",
       "    </tr>\n",
       "    <tr>\n",
       "      <th>...</th>\n",
       "      <td>...</td>\n",
       "      <td>...</td>\n",
       "      <td>...</td>\n",
       "      <td>...</td>\n",
       "    </tr>\n",
       "    <tr>\n",
       "      <th>1582</th>\n",
       "      <td>Pietro Lombardi</td>\n",
       "      <td>204.1</td>\n",
       "      <td>NaN</td>\n",
       "      <td>0.022</td>\n",
       "    </tr>\n",
       "    <tr>\n",
       "      <th>1583</th>\n",
       "      <td>Duffy</td>\n",
       "      <td>203.2</td>\n",
       "      <td>NaN</td>\n",
       "      <td>0.020</td>\n",
       "    </tr>\n",
       "    <tr>\n",
       "      <th>1584</th>\n",
       "      <td>Psirico</td>\n",
       "      <td>201.1</td>\n",
       "      <td>1.0</td>\n",
       "      <td>0.039</td>\n",
       "    </tr>\n",
       "    <tr>\n",
       "      <th>1585</th>\n",
       "      <td>Alex Clare</td>\n",
       "      <td>200.8</td>\n",
       "      <td>NaN</td>\n",
       "      <td>0.020</td>\n",
       "    </tr>\n",
       "    <tr>\n",
       "      <th>1586</th>\n",
       "      <td>The Avener</td>\n",
       "      <td>200.5</td>\n",
       "      <td>NaN</td>\n",
       "      <td>0.036</td>\n",
       "    </tr>\n",
       "  </tbody>\n",
       "</table>\n",
       "<p>1587 rows × 4 columns</p>\n",
       "</div>"
      ],
      "text/plain": [
       "               Artist Total Views  100M     Avg\n",
       "0                 BTS    27,947.9  63.0   7.370\n",
       "1           Bad Bunny    27,573.4  66.0  14.555\n",
       "2       Justin Bieber    27,399.7  37.0   3.986\n",
       "3          Ed Sheeran    26,894.0  39.0   4.609\n",
       "4        Taylor Swift    24,350.0  38.0   5.716\n",
       "...               ...         ...   ...     ...\n",
       "1582  Pietro Lombardi       204.1   NaN   0.022\n",
       "1583            Duffy       203.2   NaN   0.020\n",
       "1584          Psirico       201.1   1.0   0.039\n",
       "1585       Alex Clare       200.8   NaN   0.020\n",
       "1586       The Avener       200.5   NaN   0.036\n",
       "\n",
       "[1587 rows x 4 columns]"
      ]
     },
     "execution_count": 12,
     "metadata": {},
     "output_type": "execute_result"
    }
   ],
   "source": [
    "df = pd.read_csv('arquivos/topyoutube.csv')\n",
    "\n",
    "df"
   ]
  },
  {
   "cell_type": "markdown",
   "metadata": {},
   "source": [
    "## 2º Passo\n",
    "##### Tratando as colunas sem informação adicionando o texto “Não informado”."
   ]
  },
  {
   "cell_type": "code",
   "execution_count": 13,
   "metadata": {
    "tags": []
   },
   "outputs": [],
   "source": [
    "df.fillna(\"Não informado\", inplace=True)"
   ]
  },
  {
   "cell_type": "code",
   "execution_count": 14,
   "metadata": {
    "tags": []
   },
   "outputs": [
    {
     "data": {
      "text/html": [
       "<div>\n",
       "<style scoped>\n",
       "    .dataframe tbody tr th:only-of-type {\n",
       "        vertical-align: middle;\n",
       "    }\n",
       "\n",
       "    .dataframe tbody tr th {\n",
       "        vertical-align: top;\n",
       "    }\n",
       "\n",
       "    .dataframe thead th {\n",
       "        text-align: right;\n",
       "    }\n",
       "</style>\n",
       "<table border=\"1\" class=\"dataframe\">\n",
       "  <thead>\n",
       "    <tr style=\"text-align: right;\">\n",
       "      <th></th>\n",
       "      <th>Artist</th>\n",
       "      <th>Total Views</th>\n",
       "      <th>100M</th>\n",
       "      <th>Avg</th>\n",
       "    </tr>\n",
       "  </thead>\n",
       "  <tbody>\n",
       "    <tr>\n",
       "      <th>0</th>\n",
       "      <td>BTS</td>\n",
       "      <td>27,947.9</td>\n",
       "      <td>63.0</td>\n",
       "      <td>7.370</td>\n",
       "    </tr>\n",
       "    <tr>\n",
       "      <th>1</th>\n",
       "      <td>Bad Bunny</td>\n",
       "      <td>27,573.4</td>\n",
       "      <td>66.0</td>\n",
       "      <td>14.555</td>\n",
       "    </tr>\n",
       "    <tr>\n",
       "      <th>2</th>\n",
       "      <td>Justin Bieber</td>\n",
       "      <td>27,399.7</td>\n",
       "      <td>37.0</td>\n",
       "      <td>3.986</td>\n",
       "    </tr>\n",
       "    <tr>\n",
       "      <th>3</th>\n",
       "      <td>Ed Sheeran</td>\n",
       "      <td>26,894.0</td>\n",
       "      <td>39.0</td>\n",
       "      <td>4.609</td>\n",
       "    </tr>\n",
       "    <tr>\n",
       "      <th>4</th>\n",
       "      <td>Taylor Swift</td>\n",
       "      <td>24,350.0</td>\n",
       "      <td>38.0</td>\n",
       "      <td>5.716</td>\n",
       "    </tr>\n",
       "    <tr>\n",
       "      <th>...</th>\n",
       "      <td>...</td>\n",
       "      <td>...</td>\n",
       "      <td>...</td>\n",
       "      <td>...</td>\n",
       "    </tr>\n",
       "    <tr>\n",
       "      <th>1582</th>\n",
       "      <td>Pietro Lombardi</td>\n",
       "      <td>204.1</td>\n",
       "      <td>Não informado</td>\n",
       "      <td>0.022</td>\n",
       "    </tr>\n",
       "    <tr>\n",
       "      <th>1583</th>\n",
       "      <td>Duffy</td>\n",
       "      <td>203.2</td>\n",
       "      <td>Não informado</td>\n",
       "      <td>0.020</td>\n",
       "    </tr>\n",
       "    <tr>\n",
       "      <th>1584</th>\n",
       "      <td>Psirico</td>\n",
       "      <td>201.1</td>\n",
       "      <td>1.0</td>\n",
       "      <td>0.039</td>\n",
       "    </tr>\n",
       "    <tr>\n",
       "      <th>1585</th>\n",
       "      <td>Alex Clare</td>\n",
       "      <td>200.8</td>\n",
       "      <td>Não informado</td>\n",
       "      <td>0.020</td>\n",
       "    </tr>\n",
       "    <tr>\n",
       "      <th>1586</th>\n",
       "      <td>The Avener</td>\n",
       "      <td>200.5</td>\n",
       "      <td>Não informado</td>\n",
       "      <td>0.036</td>\n",
       "    </tr>\n",
       "  </tbody>\n",
       "</table>\n",
       "<p>1587 rows × 4 columns</p>\n",
       "</div>"
      ],
      "text/plain": [
       "               Artist Total Views           100M     Avg\n",
       "0                 BTS    27,947.9           63.0   7.370\n",
       "1           Bad Bunny    27,573.4           66.0  14.555\n",
       "2       Justin Bieber    27,399.7           37.0   3.986\n",
       "3          Ed Sheeran    26,894.0           39.0   4.609\n",
       "4        Taylor Swift    24,350.0           38.0   5.716\n",
       "...               ...         ...            ...     ...\n",
       "1582  Pietro Lombardi       204.1  Não informado   0.022\n",
       "1583            Duffy       203.2  Não informado   0.020\n",
       "1584          Psirico       201.1            1.0   0.039\n",
       "1585       Alex Clare       200.8  Não informado   0.020\n",
       "1586       The Avener       200.5  Não informado   0.036\n",
       "\n",
       "[1587 rows x 4 columns]"
      ]
     },
     "execution_count": 14,
     "metadata": {},
     "output_type": "execute_result"
    }
   ],
   "source": [
    "df"
   ]
  },
  {
   "cell_type": "markdown",
   "metadata": {},
   "source": [
    "## 3º Passo\n",
    "\n",
    "##### Formatar a coluna de total de views multiplicando por 1 milhão."
   ]
  },
  {
   "cell_type": "code",
   "execution_count": 15,
   "metadata": {
    "tags": []
   },
   "outputs": [],
   "source": [
    "# Substituindo a vírgula por nada para converter corretamente para float\n",
    "df['Total Views'] = df['Total Views'].str.replace(',', '').astype(float)\n",
    "\n",
    "# Agora multiplicando por 1.000.000\n",
    "df['Total Views'] = df['Total Views'] * 1000000"
   ]
  },
  {
   "cell_type": "code",
   "execution_count": 16,
   "metadata": {
    "tags": []
   },
   "outputs": [
    {
     "data": {
      "text/html": [
       "<div>\n",
       "<style scoped>\n",
       "    .dataframe tbody tr th:only-of-type {\n",
       "        vertical-align: middle;\n",
       "    }\n",
       "\n",
       "    .dataframe tbody tr th {\n",
       "        vertical-align: top;\n",
       "    }\n",
       "\n",
       "    .dataframe thead th {\n",
       "        text-align: right;\n",
       "    }\n",
       "</style>\n",
       "<table border=\"1\" class=\"dataframe\">\n",
       "  <thead>\n",
       "    <tr style=\"text-align: right;\">\n",
       "      <th></th>\n",
       "      <th>Artist</th>\n",
       "      <th>Total Views</th>\n",
       "      <th>100M</th>\n",
       "      <th>Avg</th>\n",
       "    </tr>\n",
       "  </thead>\n",
       "  <tbody>\n",
       "    <tr>\n",
       "      <th>0</th>\n",
       "      <td>BTS</td>\n",
       "      <td>2.794790e+10</td>\n",
       "      <td>63.0</td>\n",
       "      <td>7.370</td>\n",
       "    </tr>\n",
       "    <tr>\n",
       "      <th>1</th>\n",
       "      <td>Bad Bunny</td>\n",
       "      <td>2.757340e+10</td>\n",
       "      <td>66.0</td>\n",
       "      <td>14.555</td>\n",
       "    </tr>\n",
       "    <tr>\n",
       "      <th>2</th>\n",
       "      <td>Justin Bieber</td>\n",
       "      <td>2.739970e+10</td>\n",
       "      <td>37.0</td>\n",
       "      <td>3.986</td>\n",
       "    </tr>\n",
       "    <tr>\n",
       "      <th>3</th>\n",
       "      <td>Ed Sheeran</td>\n",
       "      <td>2.689400e+10</td>\n",
       "      <td>39.0</td>\n",
       "      <td>4.609</td>\n",
       "    </tr>\n",
       "    <tr>\n",
       "      <th>4</th>\n",
       "      <td>Taylor Swift</td>\n",
       "      <td>2.435000e+10</td>\n",
       "      <td>38.0</td>\n",
       "      <td>5.716</td>\n",
       "    </tr>\n",
       "    <tr>\n",
       "      <th>...</th>\n",
       "      <td>...</td>\n",
       "      <td>...</td>\n",
       "      <td>...</td>\n",
       "      <td>...</td>\n",
       "    </tr>\n",
       "    <tr>\n",
       "      <th>1582</th>\n",
       "      <td>Pietro Lombardi</td>\n",
       "      <td>2.041000e+08</td>\n",
       "      <td>Não informado</td>\n",
       "      <td>0.022</td>\n",
       "    </tr>\n",
       "    <tr>\n",
       "      <th>1583</th>\n",
       "      <td>Duffy</td>\n",
       "      <td>2.032000e+08</td>\n",
       "      <td>Não informado</td>\n",
       "      <td>0.020</td>\n",
       "    </tr>\n",
       "    <tr>\n",
       "      <th>1584</th>\n",
       "      <td>Psirico</td>\n",
       "      <td>2.011000e+08</td>\n",
       "      <td>1.0</td>\n",
       "      <td>0.039</td>\n",
       "    </tr>\n",
       "    <tr>\n",
       "      <th>1585</th>\n",
       "      <td>Alex Clare</td>\n",
       "      <td>2.008000e+08</td>\n",
       "      <td>Não informado</td>\n",
       "      <td>0.020</td>\n",
       "    </tr>\n",
       "    <tr>\n",
       "      <th>1586</th>\n",
       "      <td>The Avener</td>\n",
       "      <td>2.005000e+08</td>\n",
       "      <td>Não informado</td>\n",
       "      <td>0.036</td>\n",
       "    </tr>\n",
       "  </tbody>\n",
       "</table>\n",
       "<p>1587 rows × 4 columns</p>\n",
       "</div>"
      ],
      "text/plain": [
       "               Artist   Total Views           100M     Avg\n",
       "0                 BTS  2.794790e+10           63.0   7.370\n",
       "1           Bad Bunny  2.757340e+10           66.0  14.555\n",
       "2       Justin Bieber  2.739970e+10           37.0   3.986\n",
       "3          Ed Sheeran  2.689400e+10           39.0   4.609\n",
       "4        Taylor Swift  2.435000e+10           38.0   5.716\n",
       "...               ...           ...            ...     ...\n",
       "1582  Pietro Lombardi  2.041000e+08  Não informado   0.022\n",
       "1583            Duffy  2.032000e+08  Não informado   0.020\n",
       "1584          Psirico  2.011000e+08            1.0   0.039\n",
       "1585       Alex Clare  2.008000e+08  Não informado   0.020\n",
       "1586       The Avener  2.005000e+08  Não informado   0.036\n",
       "\n",
       "[1587 rows x 4 columns]"
      ]
     },
     "execution_count": 16,
     "metadata": {},
     "output_type": "execute_result"
    }
   ],
   "source": [
    "df"
   ]
  },
  {
   "cell_type": "markdown",
   "metadata": {
    "tags": []
   },
   "source": [
    "## 4º Passo\n",
    "\n",
    "##### Formatar coluna “AVG” para 2 casas decimais depois da vírgula."
   ]
  },
  {
   "cell_type": "code",
   "execution_count": 17,
   "metadata": {
    "tags": []
   },
   "outputs": [],
   "source": [
    "df['Avg'] = df['Avg'].round(2)"
   ]
  },
  {
   "cell_type": "code",
   "execution_count": 18,
   "metadata": {
    "tags": []
   },
   "outputs": [
    {
     "data": {
      "text/html": [
       "<div>\n",
       "<style scoped>\n",
       "    .dataframe tbody tr th:only-of-type {\n",
       "        vertical-align: middle;\n",
       "    }\n",
       "\n",
       "    .dataframe tbody tr th {\n",
       "        vertical-align: top;\n",
       "    }\n",
       "\n",
       "    .dataframe thead th {\n",
       "        text-align: right;\n",
       "    }\n",
       "</style>\n",
       "<table border=\"1\" class=\"dataframe\">\n",
       "  <thead>\n",
       "    <tr style=\"text-align: right;\">\n",
       "      <th></th>\n",
       "      <th>Artist</th>\n",
       "      <th>Total Views</th>\n",
       "      <th>100M</th>\n",
       "      <th>Avg</th>\n",
       "    </tr>\n",
       "  </thead>\n",
       "  <tbody>\n",
       "    <tr>\n",
       "      <th>0</th>\n",
       "      <td>BTS</td>\n",
       "      <td>2.794790e+10</td>\n",
       "      <td>63.0</td>\n",
       "      <td>7.37</td>\n",
       "    </tr>\n",
       "    <tr>\n",
       "      <th>1</th>\n",
       "      <td>Bad Bunny</td>\n",
       "      <td>2.757340e+10</td>\n",
       "      <td>66.0</td>\n",
       "      <td>14.56</td>\n",
       "    </tr>\n",
       "    <tr>\n",
       "      <th>2</th>\n",
       "      <td>Justin Bieber</td>\n",
       "      <td>2.739970e+10</td>\n",
       "      <td>37.0</td>\n",
       "      <td>3.99</td>\n",
       "    </tr>\n",
       "    <tr>\n",
       "      <th>3</th>\n",
       "      <td>Ed Sheeran</td>\n",
       "      <td>2.689400e+10</td>\n",
       "      <td>39.0</td>\n",
       "      <td>4.61</td>\n",
       "    </tr>\n",
       "    <tr>\n",
       "      <th>4</th>\n",
       "      <td>Taylor Swift</td>\n",
       "      <td>2.435000e+10</td>\n",
       "      <td>38.0</td>\n",
       "      <td>5.72</td>\n",
       "    </tr>\n",
       "    <tr>\n",
       "      <th>...</th>\n",
       "      <td>...</td>\n",
       "      <td>...</td>\n",
       "      <td>...</td>\n",
       "      <td>...</td>\n",
       "    </tr>\n",
       "    <tr>\n",
       "      <th>1582</th>\n",
       "      <td>Pietro Lombardi</td>\n",
       "      <td>2.041000e+08</td>\n",
       "      <td>Não informado</td>\n",
       "      <td>0.02</td>\n",
       "    </tr>\n",
       "    <tr>\n",
       "      <th>1583</th>\n",
       "      <td>Duffy</td>\n",
       "      <td>2.032000e+08</td>\n",
       "      <td>Não informado</td>\n",
       "      <td>0.02</td>\n",
       "    </tr>\n",
       "    <tr>\n",
       "      <th>1584</th>\n",
       "      <td>Psirico</td>\n",
       "      <td>2.011000e+08</td>\n",
       "      <td>1.0</td>\n",
       "      <td>0.04</td>\n",
       "    </tr>\n",
       "    <tr>\n",
       "      <th>1585</th>\n",
       "      <td>Alex Clare</td>\n",
       "      <td>2.008000e+08</td>\n",
       "      <td>Não informado</td>\n",
       "      <td>0.02</td>\n",
       "    </tr>\n",
       "    <tr>\n",
       "      <th>1586</th>\n",
       "      <td>The Avener</td>\n",
       "      <td>2.005000e+08</td>\n",
       "      <td>Não informado</td>\n",
       "      <td>0.04</td>\n",
       "    </tr>\n",
       "  </tbody>\n",
       "</table>\n",
       "<p>1587 rows × 4 columns</p>\n",
       "</div>"
      ],
      "text/plain": [
       "               Artist   Total Views           100M    Avg\n",
       "0                 BTS  2.794790e+10           63.0   7.37\n",
       "1           Bad Bunny  2.757340e+10           66.0  14.56\n",
       "2       Justin Bieber  2.739970e+10           37.0   3.99\n",
       "3          Ed Sheeran  2.689400e+10           39.0   4.61\n",
       "4        Taylor Swift  2.435000e+10           38.0   5.72\n",
       "...               ...           ...            ...    ...\n",
       "1582  Pietro Lombardi  2.041000e+08  Não informado   0.02\n",
       "1583            Duffy  2.032000e+08  Não informado   0.02\n",
       "1584          Psirico  2.011000e+08            1.0   0.04\n",
       "1585       Alex Clare  2.008000e+08  Não informado   0.02\n",
       "1586       The Avener  2.005000e+08  Não informado   0.04\n",
       "\n",
       "[1587 rows x 4 columns]"
      ]
     },
     "execution_count": 18,
     "metadata": {},
     "output_type": "execute_result"
    }
   ],
   "source": [
    "df"
   ]
  },
  {
   "cell_type": "markdown",
   "metadata": {
    "tags": []
   },
   "source": [
    "## 5º Passo\n",
    "\n",
    "##### Mostrar os top 10 usuários."
   ]
  },
  {
   "cell_type": "code",
   "execution_count": 19,
   "metadata": {
    "tags": []
   },
   "outputs": [
    {
     "name": "stdout",
     "output_type": "stream",
     "text": [
      "          Artist   Total Views  100M    Avg\n",
      "0            BTS  2.794790e+10  63.0   7.37\n",
      "1      Bad Bunny  2.757340e+10  66.0  14.56\n",
      "2  Justin Bieber  2.739970e+10  37.0   3.99\n",
      "3     Ed Sheeran  2.689400e+10  39.0   4.61\n",
      "4   Taylor Swift  2.435000e+10  38.0   5.72\n",
      "5        Shakira  2.396180e+10  43.0   7.84\n",
      "6     Katy Perry  2.355340e+10  25.0   3.18\n",
      "7          Ozuna  2.252480e+10  49.0   4.93\n",
      "8         Eminem  2.093770e+10  38.0   5.84\n",
      "9  Ariana Grande  2.061850e+10  37.0   3.37\n"
     ]
    }
   ],
   "source": [
    "print(df.sort_values('Total Views', ascending=False).head(10))"
   ]
  },
  {
   "cell_type": "markdown",
   "metadata": {
    "tags": []
   },
   "source": [
    "## 6º Passo\n",
    "\n",
    "##### Mostrar primeiros 100 usuários por nome decrescente."
   ]
  },
  {
   "cell_type": "code",
   "execution_count": 21,
   "metadata": {
    "tags": []
   },
   "outputs": [
    {
     "name": "stdout",
     "output_type": "stream",
     "text": [
      "                          Artist   Total Views           100M   Avg\n",
      "1374                      Łobuzy  3.965000e+08            2.0  0.11\n",
      "537                  İrem Derici  1.717300e+09            3.0  0.32\n",
      "634                   Ñengo Flow  1.388800e+09            4.0  0.82\n",
      "1032               Çağatay Akman  7.427000e+08            2.0  0.05\n",
      "350                    will.i.am  2.582000e+09            6.0  0.30\n",
      "56             twenty one pilots  1.014770e+10           14.0  2.03\n",
      "1088                    t.A.T.u.  6.698000e+08            2.0  0.22\n",
      "1184                      miss A  5.748000e+08            1.0  0.06\n",
      "401                         iKON  2.247100e+09            3.0  0.32\n",
      "954                        gnash  8.347000e+08            1.0  0.20\n",
      "1215                        f(x)  5.449000e+08            1.0  0.04\n",
      "955                     deadmau5  8.342000e+08  Não informado  0.09\n",
      "464                    blink-182  1.962000e+09            5.0  0.45\n",
      "1223                 back number  5.366000e+08            1.0  0.01\n",
      "1566                  amazarashi  2.196000e+08  Não informado  0.05\n",
      "411                         a-ha  2.202900e+09            1.0  0.75\n",
      "410                  Zé Vaqueiro  2.203100e+09            7.0  0.99\n",
      "731                   Zé Ramalho  1.204700e+09            3.0  0.35\n",
      "57           Zé Neto e Cristiano  1.013350e+10           26.0  1.72\n",
      "353                    Zé Felipe  2.553000e+09            8.0  2.40\n",
      "326                          Zoé  2.756300e+09            6.0  0.81\n",
      "541              Zouhair Bahaoui  1.705700e+09            3.0  0.49\n",
      "215                Zion & Lennox  3.964300e+09            7.0  1.17\n",
      "1267                     Zendaya  4.951000e+08            1.0  0.05\n",
      "283                         Zedd  3.160800e+09           10.0  0.46\n",
      "1194                Zay & Zayion  5.596000e+08            1.0  0.03\n",
      "329                 Zara Larsson  2.729600e+09            4.0  0.30\n",
      "747                  Zak Chumpae  1.174700e+09            3.0  0.04\n",
      "1271                        Zaho  4.921000e+08            1.0  0.20\n",
      "447                  Zack Knight  2.014300e+09            3.0  0.54\n",
      "1177                         ZHU  5.838000e+08            2.0  0.18\n",
      "1166                         ZAZ  5.963000e+08  Não informado  0.17\n",
      "184                         ZAYN  4.503500e+09            5.0  0.86\n",
      "253                      Yuridia  3.482000e+09            7.0  4.55\n",
      "53    YoungBoy Never Broke Again  1.059370e+10           26.0  4.87\n",
      "258                   Young Thug  3.425000e+09            8.0  0.93\n",
      "1278                 Young Money  4.870000e+08            1.0  0.07\n",
      "694                    Young M.A  1.267700e+09            2.0  0.17\n",
      "1449                      Yohani  3.264000e+08            1.0  0.07\n",
      "60             Yo Yo Honey Singh  9.522400e+09           32.0  3.36\n",
      "621                     Yo Gotti  1.414700e+09            4.0  0.24\n",
      "666                        Ylvis  1.325500e+09            1.0  0.14\n",
      "1341           Yinglee Srijumpol  4.273000e+08            1.0  0.04\n",
      "1108                  Yemi Alade  6.545000e+08            1.0  0.13\n",
      "767                  Yellow Claw  1.127700e+09            3.0  0.17\n",
      "784                  Yella Beezy  1.097700e+09            2.0  0.22\n",
      "697                     Yelawolf  1.262100e+09            2.0  0.41\n",
      "901                Years & Years  9.175000e+08            2.0  0.13\n",
      "1556             Yeah Yeah Yeahs  2.303000e+08  Não informado  0.08\n",
      "150             Yasmin Verissimo  5.341800e+09           15.0  2.46\n",
      "889                Yash Narvekar  9.381000e+08            2.0  0.27\n",
      "245                       Yandel  3.544300e+09            7.0  1.45\n",
      "462                     YOUNGOHM  1.969000e+09            7.0  0.77\n",
      "358                    YNW Melly  2.534200e+09            5.0  0.61\n",
      "396                           YG  2.265600e+09            6.0  0.36\n",
      "668                    YFN Lucci  1.320200e+09            2.0  0.31\n",
      "1214                         Y2K  5.452000e+08            1.0  0.11\n",
      "1572                      Xantos  2.127000e+08            1.0  0.03\n",
      "71                  XXXTENTACION  8.823300e+09           18.0  1.62\n",
      "967                X Ambassadors  8.208000e+08            2.0  0.19\n",
      "1462                 Wyclef Jean  3.109000e+08            2.0  0.09\n",
      "1411                     Woodkid  3.631000e+08            1.0  0.08\n",
      "878                 Wonder Girls  9.584000e+08            2.0  0.17\n",
      "589                      Wolfine  1.534000e+09            2.0  0.27\n",
      "38                   Wiz Khalifa  1.217530e+10           13.0  1.90\n",
      "1047           Within Temptation  7.199000e+08            1.0  0.20\n",
      "158               Wisin & Yandel  5.158600e+09           14.0  1.87\n",
      "142                        Wisin  5.578500e+09           12.0  0.96\n",
      "627                Willy William  1.406900e+09            2.0  0.32\n",
      "1558                Willow Smith  2.300000e+08            1.0  0.10\n",
      "917                 Why Don't We  8.923000e+08            1.0  0.19\n",
      "169              Whitney Houston  4.918700e+09           10.0  1.89\n",
      "1333                  Whitesnake  4.380000e+08            2.0  0.09\n",
      "1536                     Wheatus  2.464000e+08            1.0  0.08\n",
      "571                        Wham!  1.580500e+09            2.0  0.31\n",
      "361                     Westlife  2.515000e+09            6.0  0.84\n",
      "85                Wesley Safadão  7.529700e+09           15.0  3.06\n",
      "802            Weird Al Yankovic  1.070800e+09            2.0  0.23\n",
      "1002                      Weezer  7.824000e+08            1.0  0.18\n",
      "1430                    Warren G  3.507000e+08            1.0  0.10\n",
      "1228                   Wanna One  5.312000e+08            1.0  0.04\n",
      "811                         Wale  1.058100e+09            3.0  0.22\n",
      "1453                Wagakki Band  3.198000e+08            1.0  0.04\n",
      "709                       WINNER  1.244000e+09            1.0  0.12\n",
      "1206               WALK THE MOON  5.515000e+08            1.0  0.08\n",
      "1155                Vũ Duy Khánh  6.036000e+08            1.0  0.04\n",
      "1171              Vázquez Sounds  5.899000e+08            1.0  0.04\n",
      "535              Vremya i Steklo  1.721800e+09            5.0  0.14\n",
      "675              Vitor Fernandes  1.299400e+09            3.0  0.53\n",
      "1399                       Vitaa  3.736000e+08            1.0  0.07\n",
      "287               Vishal Dadlani  3.122200e+09            9.0  0.72\n",
      "257                     Violetta  3.428500e+09            4.0  0.26\n",
      "1376              Village People  3.956000e+08            1.0  0.07\n",
      "741                 Victor & Leo  1.178900e+09            2.0  0.37\n",
      "749                    Vicentico  1.167900e+09            3.0  0.42\n",
      "516                   Via Vallen  1.787500e+09            3.0  0.08\n",
      "1507                Veysel Mutlu  2.774000e+08            1.0  0.03\n",
      "1358                      Veysel  4.122000e+08  Não informado  0.06\n",
      "891                    Vengaboys  9.348000e+08            3.0  0.34\n",
      "864                    Vegedream  9.913000e+08            1.0  0.51\n"
     ]
    }
   ],
   "source": [
    "pd.set_option('display.max_rows', 100)\n",
    "\n",
    "print(df.sort_values('Artist', ascending=False).head(100))"
   ]
  },
  {
   "cell_type": "markdown",
   "metadata": {
    "tags": []
   },
   "source": [
    "## 7º Passo\n",
    "\n",
    "##### Salvar um novo CSV com a informação tratada."
   ]
  },
  {
   "cell_type": "code",
   "execution_count": 25,
   "metadata": {
    "tags": []
   },
   "outputs": [],
   "source": [
    "df.to_csv('./arquivos/topyoutube_modificado.csv', index=False)"
   ]
  },
  {
   "cell_type": "markdown",
   "metadata": {
    "id": "WAH7iNcj4PEE"
   },
   "source": [
    "---\n",
    "\n",
    "Notebook utilizado para fins educacionais da **Awari**.\n",
    "\n",
    "**© AWARI. Todos os direitos reservados.**"
   ]
  }
 ],
 "metadata": {
  "colab": {
   "authorship_tag": "ABX9TyMpmB1/ZiTM76Kc2DEBlVuc",
   "collapsed_sections": [],
   "provenance": [
    {
     "file_id": "1WPJzzm-0hWc6Q5JetcdpWbJrsPesiWLs",
     "timestamp": 1666129304753
    }
   ]
  },
  "kernelspec": {
   "display_name": "Python 3 (ipykernel)",
   "language": "python",
   "name": "python3"
  },
  "language_info": {
   "codemirror_mode": {
    "name": "ipython",
    "version": 3
   },
   "file_extension": ".py",
   "mimetype": "text/x-python",
   "name": "python",
   "nbconvert_exporter": "python",
   "pygments_lexer": "ipython3",
   "version": "3.10.9"
  }
 },
 "nbformat": 4,
 "nbformat_minor": 4
}
